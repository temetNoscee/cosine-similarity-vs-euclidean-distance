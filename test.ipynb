{
 "cells": [
  {
   "cell_type": "markdown",
   "metadata": {},
   "source": [
    "Eda İpek Sanlı 20040101006 Bilgisayar Mühendisliği"
   ]
  },
  {
   "cell_type": "markdown",
   "metadata": {},
   "source": [
    "Kosinüs benzerliği: Cosine similarity, iki vektörün benzerliğini ölçmek için kullanılan bir metriktir. Özellikle, vektörlerin yön veya yönelim benzerliğini ölçerken büyüklük veya ölçek farklılıklarını göz ardı eder. Her iki vektör de aynı iç çarpım(dot product) uzayının bir parçası olmalıdır, yani iç çarpım çarpımıyla bir skalar üretmelidirler. İki vektörün benzerliği, aralarındaki açının kosinüsü ile ölçülür. Doğal dil işleme (NLP), öneri sistemleri, görüntü işleme, kümeleme gibi alanlarda kullanılır. Hesaplanması: \n",
    "similarity(A,B)= cosQ = A . B / ||A|| ||B||"
   ]
  },
  {
   "cell_type": "code",
   "execution_count": 7,
   "metadata": {},
   "outputs": [
    {
     "name": "stdout",
     "output_type": "stream",
     "text": [
      "[[0 0 0 1 1 1 1 1 2 1 2 0 1 0]\n",
      " [0 1 1 1 0 0 1 0 1 1 1 0 1 1]\n",
      " [1 0 0 2 0 0 0 0 0 0 0 1 0 0]] \n",
      "\n",
      "Cosine Similarity between Document 1 and Document 2 is \n",
      " [[1.         0.68853037]\n",
      " [0.68853037 1.        ]]\n"
     ]
    }
   ],
   "source": [
    "from sklearn.feature_extraction.text import CountVectorizer\n",
    "from sklearn.metrics.pairwise import cosine_similarity\n",
    "\n",
    "corpus = [  'data science is one of the most important fields of science',\n",
    "            'this is one of the best data science courses',\n",
    "            'data scientists analyze data'   ]\n",
    "\n",
    "# Create a matrix to represent the corpus\n",
    "X = CountVectorizer().fit_transform(corpus).toarray()\n",
    "print(X, \"\\n\")\n",
    "\n",
    "cos_sim_1_2 = cosine_similarity([X[0, :], X[1, :]])\n",
    "\n",
    "print('Cosine Similarity between Document 1 and Document 2 is \\n',cos_sim_1_2 )"
   ]
  },
  {
   "cell_type": "markdown",
   "metadata": {},
   "source": [
    "Öklidyen uzaklık: Öklid mesafesi basitçe iki nokta arasındaki mesafedir. Noktalar bir düzlemdeyse, bu iki noktayı birleştiren doğru parçasının mesafesidir. Bu mesafe Pisagor teoremine göre hesaplanır.Kümeleme analizinde en çok kullanılan algoritmalardan biridir. Makine öğreniminde K-Nearest Neighbors (K-NN) gibi çeşitli algoritmalarda, K-Means gibi kümeleme yöntemlerinde ve özellik uzayındaki veri noktaları arasındaki benzerliğin değerlendirilmesinde sıklıkla kullanılır. Özellik temsillerine dayalı olarak örnekler arasındaki yakınlığın veya farklılığın belirlenmesine yardımcı olur."
   ]
  },
  {
   "cell_type": "code",
   "execution_count": 8,
   "metadata": {},
   "outputs": [
    {
     "name": "stdout",
     "output_type": "stream",
     "text": [
      "Euclidean Distance between point1 and point2: 5.0\n"
     ]
    }
   ],
   "source": [
    "import numpy as np\n",
    "\n",
    "# Define two points as arrays or lists\n",
    "point1 = np.array([2, 3])\n",
    "point2 = np.array([5, 7])\n",
    "\n",
    "# Calculate Euclidean distance between the points\n",
    "euclidean_distance = np.linalg.norm(point1 - point2)\n",
    "\n",
    "# Print the result\n",
    "print(\"Euclidean Distance between point1 and point2:\", euclidean_distance)"
   ]
  }
 ],
 "metadata": {
  "kernelspec": {
   "display_name": "py9",
   "language": "python",
   "name": "python3"
  },
  "language_info": {
   "codemirror_mode": {
    "name": "ipython",
    "version": 3
   },
   "file_extension": ".py",
   "mimetype": "text/x-python",
   "name": "python",
   "nbconvert_exporter": "python",
   "pygments_lexer": "ipython3",
   "version": "3.9.18"
  }
 },
 "nbformat": 4,
 "nbformat_minor": 2
}
